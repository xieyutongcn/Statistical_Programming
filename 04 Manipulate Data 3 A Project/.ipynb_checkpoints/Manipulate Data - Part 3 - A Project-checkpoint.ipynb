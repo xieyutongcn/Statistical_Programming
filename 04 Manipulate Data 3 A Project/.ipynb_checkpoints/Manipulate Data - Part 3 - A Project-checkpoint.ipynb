{
 "cells": [
  {
   "cell_type": "markdown",
   "id": "ad6101df-dfc0-4a14-940d-1ada6a0453e5",
   "metadata": {},
   "source": [
    "# Data Manipulation Project"
   ]
  },
  {
   "cell_type": "markdown",
   "id": "036aef0a-bd5b-4149-979f-c362cb1db8ff",
   "metadata": {},
   "source": [
    "# Introduction"
   ]
  },
  {
   "cell_type": "markdown",
   "id": "bef4b004-49cc-43cd-ace7-e6db66b29095",
   "metadata": {},
   "source": [
    "* In this session, we want to put tegether what we have so far.\n",
    "* We want to try to use all we have used to achieve a task.\n",
    "    * What have we learnt so far?\n",
    "        1. Some SAS habits\n",
    "        2. Reading Data into SAS\n",
    "        3. Creating new variables\n",
    "        4. Subsetting data\n",
    "        5. Conditional expressions\n",
    "        6. Handling numeric, character, and date\n",
    "        7. Combining data\n",
    "        8. Reshaping data"
   ]
  },
  {
   "cell_type": "markdown",
   "id": "f892255e-496a-44a0-9c60-e9354f71af40",
   "metadata": {},
   "source": [
    "## Data Sets"
   ]
  },
  {
   "cell_type": "markdown",
   "id": "6b4ecaed-7318-4b40-b8d9-907b5421c11a",
   "metadata": {},
   "source": [
    "* We have the following data sets\n",
    "    1. AE"
   ]
  },
  {
   "cell_type": "markdown",
   "id": "e95be28e-c088-4f71-b7e3-0ea3d166d396",
   "metadata": {},
   "source": [
    "## The Goal"
   ]
  },
  {
   "cell_type": "code",
   "execution_count": null,
   "id": "8c242e79-8b8c-4409-b645-1e40753289ff",
   "metadata": {},
   "outputs": [],
   "source": []
  }
 ],
 "metadata": {
  "kernelspec": {
   "display_name": "SAS",
   "language": "sas",
   "name": "sas"
  },
  "language_info": {
   "codemirror_mode": "sas",
   "file_extension": ".sas",
   "mimetype": "text/x-sas",
   "name": "sas"
  }
 },
 "nbformat": 4,
 "nbformat_minor": 5
}
