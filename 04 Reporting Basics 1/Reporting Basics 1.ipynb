{
 "cells": [
  {
   "cell_type": "markdown",
   "id": "a235fbec-55e0-43db-ba6e-ded3b78d51b5",
   "metadata": {},
   "source": [
    "# Reporting Basics - 1"
   ]
  },
  {
   "cell_type": "markdown",
   "id": "b1b9d3e2-770f-4f36-85bc-9df05d4f338f",
   "metadata": {},
   "source": [
    "To construct necessary reporting tables, we will need to use certain SAS tools to build reports. We will need \n",
    "* PROC FREQ\n",
    "* PROC SUMMARY\n",
    "* PROC REPORT\n",
    "* PROC TEMPLATE\n",
    "* PROC FORMAT"
   ]
  },
  {
   "cell_type": "markdown",
   "id": "c994b0ab-7363-47a4-99db-a1742fa795b3",
   "metadata": {},
   "source": [
    "## PROC FREQ"
   ]
  },
  {
   "cell_type": "markdown",
   "id": "4f47e7b3-5cc8-41b0-8d05-69c4f1bb5cdf",
   "metadata": {},
   "source": [
    "The FREQ procedure produces one-way to n-way frequency and contingency (crosstabulation) tables.\n",
    "* It calculates the number of observations and the percentages identified by a variable and put it in a operatable table. "
   ]
  },
  {
   "cell_type": "code",
   "execution_count": null,
   "id": "9a118329-8e88-484b-a20d-a38771aa222c",
   "metadata": {},
   "outputs": [],
   "source": [
    "proc sort data = sashelp.cars out = x; /* <-- Sort and load the data */\n",
    "\tby origin make model;\n",
    "run;\n",
    "\n",
    "data x;\n",
    "\tset x;\n",
    "\tid + 1; /* <-- Generate an ID */\n",
    "run;\n",
    "\n",
    "proc sort; /* <-- Note that I don't have the DATA = statement. By default, SAS will use the most recent data. *//* You can do it but I don't recommend. */\n",
    "\tby origin;\n",
    "run;\n",
    "\n",
    "proc freq noprint;  \n",
    "\tby origin; /* <-- Execute PROC FREQ for each origin. */ \n",
    "\ttable type / out = out_1; /* <-- The variable I want to tabulate is \"type\". I put the results in a table called \"out_1\". */\n",
    "run;"
   ]
  },
  {
   "cell_type": "markdown",
   "id": "4c392a4b-d57c-4f60-8127-e8768dd4f4b1",
   "metadata": {},
   "source": [
    "Let's subset the data so that it is more managable. \n",
    "* Keep only the Acura and Mercedes-Benz cars.\n",
    "* keep only SUVs and Sedans. "
   ]
  },
  {
   "cell_type": "code",
   "execution_count": null,
   "id": "5d70ff73-b730-4a02-af6d-196c94e44aac",
   "metadata": {},
   "outputs": [],
   "source": [
    "/* where or if (make = \"Acura\" or make = \"Mercedes-Benz\") and (type = \"SUV\" or type = \"Sedan\"); */"
   ]
  },
  {
   "cell_type": "markdown",
   "id": "1372176c-3761-4960-b427-5dee41b097bd",
   "metadata": {},
   "source": [
    "After we have filtered the data, we can re-do the frequency (proc freq). "
   ]
  },
  {
   "cell_type": "code",
   "execution_count": null,
   "id": "a552eed7-8763-4cfa-850e-953576d996fe",
   "metadata": {},
   "outputs": [],
   "source": [
    "proc sort data = sashelp.cars (where = ((make = \"Acura\" or make = \"Mercedes-Benz\") and (type = \"SUV\" or type = \"Sedan\"))) out = x; /* <-- Sort and load the data */\n",
    "\tby origin make model;\n",
    "run;\n",
    "\n",
    "data x;\n",
    "\tset x;\n",
    "\tid + 1; /* <-- Generate an ID */\n",
    "run;\n",
    "\n",
    "proc sort; /* <-- Note that I don't have the DATA = statement. By default, SAS will use the most recent data. *//* You can do it but I don't recommend. */\n",
    "\tby origin;\n",
    "run;\n",
    "\n",
    "proc freq noprint;  \n",
    "\tby origin; /* <-- Execute PROC FREQ for each origin. */ \n",
    "\ttable type / out = out_1; /* <-- The variable I want to tabulate is \"type\". I put the results in a table called \"out_1\". */\n",
    "run;"
   ]
  },
  {
   "cell_type": "markdown",
   "id": "598b2831-c201-4ca1-aeee-1b6307c45441",
   "metadata": {},
   "source": [
    "Let's make the outcome into a professional looking table. \n",
    "\n",
    "Let's say we want this:"
   ]
  },
  {
   "cell_type": "code",
   "execution_count": null,
   "id": "2f713331-4b5b-4166-bd22-4a863a7192e7",
   "metadata": {},
   "outputs": [],
   "source": [
    "/*\n",
    "                    Acura       Mercedes-Benz       Overall\n",
    "Type [n(%)]\n",
    "    SUV            xx(xx.x)       xx(xx.x)          xx(xx.x)\n",
    "    Sedan          xx(xx.x)       xx(xx.x)          xx(xx.x)\n",
    "*/"
   ]
  },
  {
   "cell_type": "markdown",
   "id": "69616da5-cd74-4bab-a14e-fb49b6a2af09",
   "metadata": {},
   "source": [
    "The data out_1 should have all the required information. There are a couple special things about this table compared to a normal SAS table.\n",
    "* There is an overall column to calculate statistics. In the previous results table, we only have by group results.\n",
    "* n and % are reported next to each other in one column.\n",
    "* There is an empty row with Type [n(%)].\n",
    "* The rows begin wih SUC and Sedan and they are indented. \n",
    "* Column titles.\n",
    "\n",
    "If we can handle these, we should be able to create this table. The entire code is below."
   ]
  },
  {
   "cell_type": "code",
   "execution_count": null,
   "id": "69088c9a-4939-44cc-8cf2-35842bb624cb",
   "metadata": {},
   "outputs": [],
   "source": [
    "data x;\n",
    "\tset sashelp.cars (where = ((make = \"Acura\" or make = \"Mercedes-Benz\") and (type = \"SUV\" or type = \"Sedan\")));\n",
    "\tid + 1; /* <-- Generate an ID */\n",
    "    if make = \"Acura\" then makeid = 0;\n",
    "    else if make = \"Mercedes-Benz\" then makeid = 1;\n",
    "    output;\n",
    "    makeid =2;\n",
    "    output;\n",
    "run;\n",
    "\n",
    "proc sort; \n",
    "\tby makeid;\n",
    "run;\n",
    "\n",
    "proc freq noprint;  \n",
    "\tby makeid; /* <-- Execute PROC FREQ for each make. */ \n",
    "\ttable type / out = out_1; /* <-- The variable I want to tabulate is \"type\". */\n",
    "run;\n",
    "\n",
    "data out_2;\n",
    "\tset out_1;\n",
    "\t_n = put(count,5.0)||\"(\"||put(percent,5.1)||\")\";\n",
    "\tdrop count percent;\n",
    "run;\n",
    "\n",
    "\n",
    "proc sort data = out_2;\n",
    "\tby type;\n",
    "run;\n",
    "\n",
    "proc transpose data = out_2 out = out_3 prefix = make;\n",
    "\tby type;\n",
    "\tid makeid;\n",
    "\tvar _n;\n",
    "run;\n",
    "\n",
    "data out_3;\n",
    "\tset out_3 (drop = _Name_);\n",
    "\tif type = \"SUV\" then row_name = \"    SUV\";\n",
    "\telse if type = \"Sedan\" then row_name = \"    Sedan\";\n",
    "run;\n",
    "\n",
    "data z;\n",
    "\trow_name = \"Type [n(%)]\";\n",
    "run;\n",
    "\n",
    "data out_3;\n",
    "\tset z out_3;\n",
    "run;"
   ]
  },
  {
   "cell_type": "markdown",
   "id": "84a6b09f-cc8c-4324-ba18-58a820477e6d",
   "metadata": {},
   "source": [
    "## PROC SUMMARY"
   ]
  },
  {
   "cell_type": "code",
   "execution_count": null,
   "id": "b5ce0c55-c270-4c6f-a943-15638f0e5b0e",
   "metadata": {},
   "outputs": [],
   "source": [
    "data x;\n",
    "\tset sashelp.cars (where = ((make = \"Acura\" or make = \"Mercedes-Benz\") and (type = \"SUV\" or type = \"Sedan\")));\n",
    "\tid + 1; /* <-- Generate an ID */\n",
    "    if make = \"Acura\" then makeid = 0;\n",
    "    else if make = \"Mercedes-Benz\" then makeid = 1;\n",
    "    output;\n",
    "    makeid =2;\n",
    "    output;\n",
    "run;\n",
    "\n",
    "proc sort; \n",
    "\tby makeid;\n",
    "run;\n",
    "\n",
    "proc summary;\n",
    "    by makeid;\n",
    "    var msrp;\n",
    "    output out = out_1 N = _N mean = _mean std = _std median = _median min = _min max = _max;\n",
    "run;"
   ]
  },
  {
   "cell_type": "markdown",
   "id": "391a0295-ca1e-4d7c-8139-d73739dcf378",
   "metadata": {},
   "source": [
    "I want the following this time. Can you tell me what to do? Let's think about how we can figure it out. \n",
    "\n",
    "In the PROC FREQ example, all we did was turning PROC FREQ output into something that's consistent with the reporting format. We need to first learn how the output of PROC SUMMARY looks and then think about how to turn it into something consistent with the format. "
   ]
  },
  {
   "cell_type": "code",
   "execution_count": null,
   "id": "830916c3-8843-4f71-ae5b-afb5f8a6a673",
   "metadata": {},
   "outputs": [],
   "source": [
    "/*\n",
    "                    Acura       Mercedes-Benz       Overall\n",
    "MSRP ($)\n",
    "    N                xx             xx                xx\n",
    "    Mean(SD)     xx.x(xx.xx)     xx.x(xx.xx)       xx.x(xx.xx)\n",
    "    Median          xx.x           xx.x              xx.x\n",
    "    Min, Max       xx, xx         xx, xx            xx, xx\n",
    "*/"
   ]
  },
  {
   "cell_type": "code",
   "execution_count": null,
   "id": "bcb997b0-8c33-4b5e-b500-50c9e5e55263",
   "metadata": {},
   "outputs": [],
   "source": [
    "/* Try to figure it out! */"
   ]
  }
 ],
 "metadata": {
  "kernelspec": {
   "display_name": "SAS",
   "language": "sas",
   "name": "sas"
  },
  "language_info": {
   "codemirror_mode": "sas",
   "file_extension": ".sas",
   "mimetype": "text/x-sas",
   "name": "sas"
  }
 },
 "nbformat": 4,
 "nbformat_minor": 5
}
