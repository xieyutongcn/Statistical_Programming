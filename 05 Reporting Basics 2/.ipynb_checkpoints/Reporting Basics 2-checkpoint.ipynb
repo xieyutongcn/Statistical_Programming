{
 "cells": [
  {
   "cell_type": "markdown",
   "id": "a235fbec-55e0-43db-ba6e-ded3b78d51b5",
   "metadata": {},
   "source": [
    "# Reporting Basics - 2"
   ]
  },
  {
   "cell_type": "markdown",
   "id": "b1b9d3e2-770f-4f36-85bc-9df05d4f338f",
   "metadata": {},
   "source": [
    "To construct necessary reporting tables, we will need to use certain SAS tools to build reports. We will need \n",
    "* PROC FREQ\n",
    "* PROC SUMMARY\n",
    "* PROC REPORT\n",
    "* PROC TEMPLATE\n",
    "* PROC FORMAT"
   ]
  },
  {
   "cell_type": "markdown",
   "id": "c994b0ab-7363-47a4-99db-a1742fa795b3",
   "metadata": {},
   "source": [
    "## PROC REPORT"
   ]
  },
  {
   "cell_type": "markdown",
   "id": "4f47e7b3-5cc8-41b0-8d05-69c4f1bb5cdf",
   "metadata": {},
   "source": [
    "The FREQ procedure produces one-way to n-way frequency and contingency (crosstabulation) tables.\n",
    "* It calculates the number of observations and the percentages identified by a "
   ]
  },
  {
   "cell_type": "code",
   "execution_count": null,
   "id": "9a118329-8e88-484b-a20d-a38771aa222c",
   "metadata": {},
   "outputs": [],
   "source": [
    "data x;\n",
    "\tset sashelp.cars (where = ((make = \"Acura\" or make = \"Mercedes-Benz\") and (type = \"SUV\" or type = \"Sedan\")));\n",
    "\tid + 1; /* <-- Generate an ID */\n",
    "    if make = \"Acura\" then makeid = 0;\n",
    "    else if make = \"Mercedes-Benz\" then makeid = 1;\n",
    "    output;\n",
    "    makeid =2;\n",
    "    output;\n",
    "run;\n",
    "\n",
    "proc sort; \n",
    "\tby makeid;\n",
    "run;\n",
    "\n",
    "proc freq noprint;  \n",
    "\tby makeid; /* <-- Execute PROC FREQ for each make. */ \n",
    "\ttable type / out = out_1; /* <-- The variable I want to tabulate is \"type\". */\n",
    "run;\n",
    "\n",
    "data out_2;\n",
    "\tset out_1;\n",
    "\t_n = put(count,5.0)||\"(\"||put(percent,5.1)||\")\";\n",
    "\tdrop count percent;\n",
    "run;\n",
    "\n",
    "\n",
    "proc sort data = out_2;\n",
    "\tby type;\n",
    "run;\n",
    "\n",
    "proc transpose data = out_2 out = out_3 prefix = make;\n",
    "\tby type;\n",
    "\tid makeid;\n",
    "\tvar _n;\n",
    "run;\n",
    "\n",
    "data out_3;\n",
    "    length type $40 row_name $40;\n",
    "\tset out_3 (drop = _Name_);\n",
    "\tif type = \"SUV\" then row_name = \"    SUV\";\n",
    "\telse if type = \"Sedan\" then row_name = \"    Sedan\";\n",
    "run;\n",
    "\n",
    "data z;\n",
    "    length row_name $30;\n",
    "\trow_name = \"Type [n(%)]\";\n",
    "run;\n",
    "\n",
    "data out_3 (drop = type);\n",
    "\tset z out_3;\n",
    "run;\n",
    "\n",
    "data freq;\n",
    "    set out_3;\n",
    "    group = 1;\n",
    "run;"
   ]
  },
  {
   "cell_type": "code",
   "execution_count": null,
   "id": "819a0ce5-02dc-4cf9-aae0-04e6caff19e5",
   "metadata": {},
   "outputs": [],
   "source": [
    "/* Another Table */\n",
    "data x;\n",
    "\tset sashelp.cars (where = ((make = \"Acura\" or make = \"Mercedes-Benz\") and (type = \"SUV\" or type = \"Sedan\")));\n",
    "\tid + 1; /* <-- Generate an ID */\n",
    "    if make = \"Acura\" then makeid = 0;\n",
    "    else if make = \"Mercedes-Benz\" then makeid = 1;\n",
    "    output;\n",
    "    makeid =2;\n",
    "    output;\n",
    "run;\n",
    "\n",
    "proc sort; \n",
    "\tby makeid;\n",
    "run;\n",
    "\n",
    "proc summary;\n",
    "    by makeid;\n",
    "    var msrp;\n",
    "    output out = out_1 N = _N mean = _mean std = _std median = _median min = _min max = _max;\n",
    "run;\n",
    "\n",
    "data out_1 (drop = _:);\n",
    "    length N $40 mean_std $40 median $40 min_max $40;\n",
    "\tset out_1 (drop = _t: _f:);\n",
    "\t\n",
    "\tN = put(_N,6.);\n",
    "\tmean_std = put(_mean,6.1)||\"(\"||put(_std,6.2)||\")\";\n",
    "\tmedian = put(_median,6.1);\n",
    "\tmin_max = put(_min,6.)||\", \"||put(_max,6.);\n",
    "run;\n",
    "\n",
    "proc transpose data = out_1 out = out_2 prefix = make;\n",
    "\tid makeid;\n",
    "\tvar N mean_std median min_max;\n",
    "run;\n",
    "\n",
    "data out_3 (drop = _Name_);\n",
    "\tlength row_name $40;\n",
    "\tset out_2;\n",
    "\tif _name_ = \"N\" then row_name = \"    N\";\n",
    "\telse if _name_ = \"mean_std\" then row_name = \"    Mean(SD)\";\n",
    "\telse if _name_ = \"median\" then row_name = \"    Median\";\n",
    "\telse if _name_ = \"min_max\" then row_name = \"    Min, Max\";\n",
    "run;\n",
    "\n",
    "data z;\n",
    "\tlength row_name $40;\n",
    "\trow_name = \"MSRP ($)\";\n",
    "run;\n",
    "\n",
    "data out_3;\n",
    "\tset z out_3;\n",
    "run;\n",
    "\n",
    "data sum_stats;\n",
    "\tset out_3;\n",
    "\tgroup = 2;\n",
    "run;"
   ]
  },
  {
   "cell_type": "code",
   "execution_count": null,
   "id": "a72bb473-7984-451e-b88a-0c77a6c815ea",
   "metadata": {},
   "outputs": [],
   "source": [
    "/* Put 2 tables in one */\n",
    "data out;\n",
    "    length make0 $40 make1 $40 make2 $40;\n",
    "    set freq sum_stats;\n",
    "run;"
   ]
  },
  {
   "cell_type": "markdown",
   "id": "4c392a4b-d57c-4f60-8127-e8768dd4f4b1",
   "metadata": {},
   "source": [
    "This is more like a PROC PRINT. Let's see what PROC REPORT can do. "
   ]
  },
  {
   "cell_type": "markdown",
   "id": "1372176c-3761-4960-b427-5dee41b097bd",
   "metadata": {},
   "source": [
    "### Order the columns\n",
    "We can order the columns. "
   ]
  },
  {
   "cell_type": "code",
   "execution_count": null,
   "id": "a552eed7-8763-4cfa-850e-953576d996fe",
   "metadata": {},
   "outputs": [],
   "source": [
    "proc report; \n",
    "    column(group row_name make1 make0 make2)\n",
    "run;\n",
    "\n",
    "/*or*/\n",
    "\n",
    "proc report; \n",
    "    column(row_name make0 make1 group make2)\n",
    "run;"
   ]
  },
  {
   "cell_type": "markdown",
   "id": "598b2831-c201-4ca1-aeee-1b6307c45441",
   "metadata": {},
   "source": [
    "### Column Names"
   ]
  },
  {
   "cell_type": "code",
   "execution_count": null,
   "id": "5363aff2-80c4-4591-864b-9f331d3249f7",
   "metadata": {},
   "outputs": [],
   "source": [
    "proc report split=\"*\"; /* The SPLIT option which can allow column names to break into two rows */\n",
    "    column(group row_name make0 make1 make2);\n",
    "    define group / group noprint;\n",
    "    define row_name / '' width = 80 style=[asis=on];\n",
    "    define make0 / 'Acura*(N=6)';\n",
    "\tdefine make1 / 'Mersedes-Benz*(N=18)';\n",
    "\tdefine make2 / 'Overall*(N=24)';\n",
    "run;"
   ]
  },
  {
   "cell_type": "markdown",
   "id": "e8c5ffba-a007-4188-8b66-56244f2f358b",
   "metadata": {},
   "source": [
    "### Headers and Footnotes"
   ]
  },
  {
   "cell_type": "code",
   "execution_count": null,
   "id": "3f253ffe-afc4-496f-b6aa-f86a14516bd6",
   "metadata": {},
   "outputs": [],
   "source": [
    "proc report split=\"*\"; \n",
    "    column(group row_name make0 make1 make2);\n",
    "    define group / group noprint;\n",
    "    define row_name / '' width = 80 style=[asis=on];\n",
    "    define make0 / 'Acura*(N=6)';\n",
    "\tdefine make1 / 'Mersedes-Benz*(N=18)';\n",
    "\tdefine make2 / 'Overall*(N=24)';\n",
    "\t\n",
    "\tcompute before _page_;\n",
    "\tline \"\";\n",
    "\tline @10 'xx.xx.xx.xx Subject Cars';\n",
    "\tline @20 'Acura vs Benz';\n",
    "\tline \"\";\n",
    "\tendcomp;\n",
    "\t\n",
    "\tcompute after;\n",
    "\tline @4 \"footnotes 1\";\n",
    "\tline @4 \"footnotes 2\";\n",
    "\tline @4 \"footnotes 3\";\n",
    "\tendcomp;\n",
    "run;"
   ]
  },
  {
   "cell_type": "markdown",
   "id": "69616da5-cd74-4bab-a14e-fb49b6a2af09",
   "metadata": {},
   "source": [
    "### Column Style"
   ]
  },
  {
   "cell_type": "code",
   "execution_count": null,
   "id": "69088c9a-4939-44cc-8cf2-35842bb624cb",
   "metadata": {},
   "outputs": [],
   "source": [
    "proc report split=\"*\"; \n",
    "    column(group row_name make0 make1 make2);\n",
    "    define group / group noprint;\n",
    "    define row_name / '' width = 80 style=[asis=on];\n",
    "    define make0 / 'Acura*(N=6)';\n",
    "\tdefine make1 / 'Mersedes-Benz*(N=18)';\n",
    "\tdefine make2 / 'Overall*(N=24)';\n",
    "\t\n",
    "\tcompute before _page_;\n",
    "\tline \"\";\n",
    "\tline @10 'xx.xx.xx.xx Subject Cars';\n",
    "\tline @20 'Acura vs Benz';\n",
    "\tline \"\";\n",
    "\tendcomp;\n",
    "\t\n",
    "\tcompute after;\n",
    "\tline @4 \"footnotes 1\";\n",
    "\tline @4 \"footnotes 2\";\n",
    "\tline @4 \"footnotes 3\";\n",
    "\tendcomp;\n",
    "run;"
   ]
  },
  {
   "cell_type": "markdown",
   "id": "05d43461-ad01-4a58-a821-62c2e34d63a1",
   "metadata": {},
   "source": [
    "### Header Style"
   ]
  },
  {
   "cell_type": "code",
   "execution_count": null,
   "id": "2bb315b2-c275-4a3e-b690-f7c9e96f06ac",
   "metadata": {},
   "outputs": [],
   "source": [
    "proc report split=\"*\"; \n",
    "    column(group row_name make0 make1 make2);\n",
    "    define group / group noprint;\n",
    "    define row_name / '' width = 80 style=[asis=on];\n",
    "    define make0 / 'Acura*(N=6)' style(header)=Header{background=red};;\n",
    "\tdefine make1 / 'Mersedes-Benz*(N=18)' style(header)=Header{background=yellow};;\n",
    "\tdefine make2 / 'Overall*(N=24)' style(header)=Header{background=blue};;\n",
    "\t\n",
    "\tcompute before _page_;\n",
    "\tline \"\";\n",
    "\tline @10 'xx.xx.xx.xx Subject Cars';\n",
    "\tline @20 'Acura vs Benz';\n",
    "\tline \"\";\n",
    "\tendcomp;\n",
    "\t\n",
    "\tcompute after;\n",
    "\tline @4 \"footnotes 1\";\n",
    "\tline @4 \"footnotes 2\";\n",
    "\tline @4 \"footnotes 3\";\n",
    "\tendcomp;\n",
    "run;"
   ]
  }
 ],
 "metadata": {
  "kernelspec": {
   "display_name": "SAS",
   "language": "sas",
   "name": "sas"
  },
  "language_info": {
   "codemirror_mode": "sas",
   "file_extension": ".sas",
   "mimetype": "text/x-sas",
   "name": "sas"
  }
 },
 "nbformat": 4,
 "nbformat_minor": 5
}
